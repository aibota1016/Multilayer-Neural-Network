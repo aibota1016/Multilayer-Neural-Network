{
  "nbformat": 4,
  "nbformat_minor": 0,
  "metadata": {
    "colab": {
      "name": "S2017629_AibotaSanatbyek_Assignment2.ipynb",
      "provenance": [],
      "collapsed_sections": []
    },
    "kernelspec": {
      "name": "python3",
      "display_name": "Python 3"
    },
    "language_info": {
      "name": "python"
    },
    "accelerator": "GPU",
    "widgets": {
      "application/vnd.jupyter.widget-state+json": {
        "ca626640e00c4fa493edb11143a60b2b": {
          "model_module": "@jupyter-widgets/controls",
          "model_name": "HBoxModel",
          "model_module_version": "1.5.0",
          "state": {
            "_dom_classes": [],
            "_model_module": "@jupyter-widgets/controls",
            "_model_module_version": "1.5.0",
            "_model_name": "HBoxModel",
            "_view_count": null,
            "_view_module": "@jupyter-widgets/controls",
            "_view_module_version": "1.5.0",
            "_view_name": "HBoxView",
            "box_style": "",
            "children": [
              "IPY_MODEL_6ac8b7b4eea3450d8a9b0397e370819b",
              "IPY_MODEL_dfe39de0ad1d408f95d63797d3e60bd0",
              "IPY_MODEL_164ec9726031424c878a96ef10744036"
            ],
            "layout": "IPY_MODEL_9ecb80c50ba74c40acc1d1f9c7a29de2"
          }
        },
        "6ac8b7b4eea3450d8a9b0397e370819b": {
          "model_module": "@jupyter-widgets/controls",
          "model_name": "HTMLModel",
          "model_module_version": "1.5.0",
          "state": {
            "_dom_classes": [],
            "_model_module": "@jupyter-widgets/controls",
            "_model_module_version": "1.5.0",
            "_model_name": "HTMLModel",
            "_view_count": null,
            "_view_module": "@jupyter-widgets/controls",
            "_view_module_version": "1.5.0",
            "_view_name": "HTMLView",
            "description": "",
            "description_tooltip": null,
            "layout": "IPY_MODEL_8fceb6b6a0e14607ab8bb1b8d138b23e",
            "placeholder": "​",
            "style": "IPY_MODEL_5a66796d4d1a43ff88ee0d541f28eacc",
            "value": ""
          }
        },
        "dfe39de0ad1d408f95d63797d3e60bd0": {
          "model_module": "@jupyter-widgets/controls",
          "model_name": "FloatProgressModel",
          "model_module_version": "1.5.0",
          "state": {
            "_dom_classes": [],
            "_model_module": "@jupyter-widgets/controls",
            "_model_module_version": "1.5.0",
            "_model_name": "FloatProgressModel",
            "_view_count": null,
            "_view_module": "@jupyter-widgets/controls",
            "_view_module_version": "1.5.0",
            "_view_name": "ProgressView",
            "bar_style": "success",
            "description": "",
            "description_tooltip": null,
            "layout": "IPY_MODEL_556d32a4e0bf496b918f4d7d1aea135e",
            "max": 18165135,
            "min": 0,
            "orientation": "horizontal",
            "style": "IPY_MODEL_43be8454d3d747f29bd5f531bd7632da",
            "value": 18165135
          }
        },
        "164ec9726031424c878a96ef10744036": {
          "model_module": "@jupyter-widgets/controls",
          "model_name": "HTMLModel",
          "model_module_version": "1.5.0",
          "state": {
            "_dom_classes": [],
            "_model_module": "@jupyter-widgets/controls",
            "_model_module_version": "1.5.0",
            "_model_name": "HTMLModel",
            "_view_count": null,
            "_view_module": "@jupyter-widgets/controls",
            "_view_module_version": "1.5.0",
            "_view_name": "HTMLView",
            "description": "",
            "description_tooltip": null,
            "layout": "IPY_MODEL_bd55a70489a94aefa9c08c4df1de7238",
            "placeholder": "​",
            "style": "IPY_MODEL_c16493969ee24ecfbdcbc11976c8d69d",
            "value": " 18165760/? [00:13&lt;00:00, 1611298.20it/s]"
          }
        },
        "9ecb80c50ba74c40acc1d1f9c7a29de2": {
          "model_module": "@jupyter-widgets/base",
          "model_name": "LayoutModel",
          "model_module_version": "1.2.0",
          "state": {
            "_model_module": "@jupyter-widgets/base",
            "_model_module_version": "1.2.0",
            "_model_name": "LayoutModel",
            "_view_count": null,
            "_view_module": "@jupyter-widgets/base",
            "_view_module_version": "1.2.0",
            "_view_name": "LayoutView",
            "align_content": null,
            "align_items": null,
            "align_self": null,
            "border": null,
            "bottom": null,
            "display": null,
            "flex": null,
            "flex_flow": null,
            "grid_area": null,
            "grid_auto_columns": null,
            "grid_auto_flow": null,
            "grid_auto_rows": null,
            "grid_column": null,
            "grid_gap": null,
            "grid_row": null,
            "grid_template_areas": null,
            "grid_template_columns": null,
            "grid_template_rows": null,
            "height": null,
            "justify_content": null,
            "justify_items": null,
            "left": null,
            "margin": null,
            "max_height": null,
            "max_width": null,
            "min_height": null,
            "min_width": null,
            "object_fit": null,
            "object_position": null,
            "order": null,
            "overflow": null,
            "overflow_x": null,
            "overflow_y": null,
            "padding": null,
            "right": null,
            "top": null,
            "visibility": null,
            "width": null
          }
        },
        "8fceb6b6a0e14607ab8bb1b8d138b23e": {
          "model_module": "@jupyter-widgets/base",
          "model_name": "LayoutModel",
          "model_module_version": "1.2.0",
          "state": {
            "_model_module": "@jupyter-widgets/base",
            "_model_module_version": "1.2.0",
            "_model_name": "LayoutModel",
            "_view_count": null,
            "_view_module": "@jupyter-widgets/base",
            "_view_module_version": "1.2.0",
            "_view_name": "LayoutView",
            "align_content": null,
            "align_items": null,
            "align_self": null,
            "border": null,
            "bottom": null,
            "display": null,
            "flex": null,
            "flex_flow": null,
            "grid_area": null,
            "grid_auto_columns": null,
            "grid_auto_flow": null,
            "grid_auto_rows": null,
            "grid_column": null,
            "grid_gap": null,
            "grid_row": null,
            "grid_template_areas": null,
            "grid_template_columns": null,
            "grid_template_rows": null,
            "height": null,
            "justify_content": null,
            "justify_items": null,
            "left": null,
            "margin": null,
            "max_height": null,
            "max_width": null,
            "min_height": null,
            "min_width": null,
            "object_fit": null,
            "object_position": null,
            "order": null,
            "overflow": null,
            "overflow_x": null,
            "overflow_y": null,
            "padding": null,
            "right": null,
            "top": null,
            "visibility": null,
            "width": null
          }
        },
        "5a66796d4d1a43ff88ee0d541f28eacc": {
          "model_module": "@jupyter-widgets/controls",
          "model_name": "DescriptionStyleModel",
          "model_module_version": "1.5.0",
          "state": {
            "_model_module": "@jupyter-widgets/controls",
            "_model_module_version": "1.5.0",
            "_model_name": "DescriptionStyleModel",
            "_view_count": null,
            "_view_module": "@jupyter-widgets/base",
            "_view_module_version": "1.2.0",
            "_view_name": "StyleView",
            "description_width": ""
          }
        },
        "556d32a4e0bf496b918f4d7d1aea135e": {
          "model_module": "@jupyter-widgets/base",
          "model_name": "LayoutModel",
          "model_module_version": "1.2.0",
          "state": {
            "_model_module": "@jupyter-widgets/base",
            "_model_module_version": "1.2.0",
            "_model_name": "LayoutModel",
            "_view_count": null,
            "_view_module": "@jupyter-widgets/base",
            "_view_module_version": "1.2.0",
            "_view_name": "LayoutView",
            "align_content": null,
            "align_items": null,
            "align_self": null,
            "border": null,
            "bottom": null,
            "display": null,
            "flex": null,
            "flex_flow": null,
            "grid_area": null,
            "grid_auto_columns": null,
            "grid_auto_flow": null,
            "grid_auto_rows": null,
            "grid_column": null,
            "grid_gap": null,
            "grid_row": null,
            "grid_template_areas": null,
            "grid_template_columns": null,
            "grid_template_rows": null,
            "height": null,
            "justify_content": null,
            "justify_items": null,
            "left": null,
            "margin": null,
            "max_height": null,
            "max_width": null,
            "min_height": null,
            "min_width": null,
            "object_fit": null,
            "object_position": null,
            "order": null,
            "overflow": null,
            "overflow_x": null,
            "overflow_y": null,
            "padding": null,
            "right": null,
            "top": null,
            "visibility": null,
            "width": null
          }
        },
        "43be8454d3d747f29bd5f531bd7632da": {
          "model_module": "@jupyter-widgets/controls",
          "model_name": "ProgressStyleModel",
          "model_module_version": "1.5.0",
          "state": {
            "_model_module": "@jupyter-widgets/controls",
            "_model_module_version": "1.5.0",
            "_model_name": "ProgressStyleModel",
            "_view_count": null,
            "_view_module": "@jupyter-widgets/base",
            "_view_module_version": "1.2.0",
            "_view_name": "StyleView",
            "bar_color": null,
            "description_width": ""
          }
        },
        "bd55a70489a94aefa9c08c4df1de7238": {
          "model_module": "@jupyter-widgets/base",
          "model_name": "LayoutModel",
          "model_module_version": "1.2.0",
          "state": {
            "_model_module": "@jupyter-widgets/base",
            "_model_module_version": "1.2.0",
            "_model_name": "LayoutModel",
            "_view_count": null,
            "_view_module": "@jupyter-widgets/base",
            "_view_module_version": "1.2.0",
            "_view_name": "LayoutView",
            "align_content": null,
            "align_items": null,
            "align_self": null,
            "border": null,
            "bottom": null,
            "display": null,
            "flex": null,
            "flex_flow": null,
            "grid_area": null,
            "grid_auto_columns": null,
            "grid_auto_flow": null,
            "grid_auto_rows": null,
            "grid_column": null,
            "grid_gap": null,
            "grid_row": null,
            "grid_template_areas": null,
            "grid_template_columns": null,
            "grid_template_rows": null,
            "height": null,
            "justify_content": null,
            "justify_items": null,
            "left": null,
            "margin": null,
            "max_height": null,
            "max_width": null,
            "min_height": null,
            "min_width": null,
            "object_fit": null,
            "object_position": null,
            "order": null,
            "overflow": null,
            "overflow_x": null,
            "overflow_y": null,
            "padding": null,
            "right": null,
            "top": null,
            "visibility": null,
            "width": null
          }
        },
        "c16493969ee24ecfbdcbc11976c8d69d": {
          "model_module": "@jupyter-widgets/controls",
          "model_name": "DescriptionStyleModel",
          "model_module_version": "1.5.0",
          "state": {
            "_model_module": "@jupyter-widgets/controls",
            "_model_module_version": "1.5.0",
            "_model_name": "DescriptionStyleModel",
            "_view_count": null,
            "_view_module": "@jupyter-widgets/base",
            "_view_module_version": "1.2.0",
            "_view_name": "StyleView",
            "description_width": ""
          }
        },
        "165402bcaacd4c0db99776fd2b378c90": {
          "model_module": "@jupyter-widgets/controls",
          "model_name": "HBoxModel",
          "model_module_version": "1.5.0",
          "state": {
            "_dom_classes": [],
            "_model_module": "@jupyter-widgets/controls",
            "_model_module_version": "1.5.0",
            "_model_name": "HBoxModel",
            "_view_count": null,
            "_view_module": "@jupyter-widgets/controls",
            "_view_module_version": "1.5.0",
            "_view_name": "HBoxView",
            "box_style": "",
            "children": [
              "IPY_MODEL_f262a8591395452e8adcabd9afc892b4",
              "IPY_MODEL_c8d992b9038f4fd38be51f206026d596",
              "IPY_MODEL_4768ee6878474f5dadcbfea76615d66f"
            ],
            "layout": "IPY_MODEL_dd24595adf954bcca6cdae0c00ff6d99"
          }
        },
        "f262a8591395452e8adcabd9afc892b4": {
          "model_module": "@jupyter-widgets/controls",
          "model_name": "HTMLModel",
          "model_module_version": "1.5.0",
          "state": {
            "_dom_classes": [],
            "_model_module": "@jupyter-widgets/controls",
            "_model_module_version": "1.5.0",
            "_model_name": "HTMLModel",
            "_view_count": null,
            "_view_module": "@jupyter-widgets/controls",
            "_view_module_version": "1.5.0",
            "_view_name": "HTMLView",
            "description": "",
            "description_tooltip": null,
            "layout": "IPY_MODEL_f90dadce22024220b06adb7b2b7a7da9",
            "placeholder": "​",
            "style": "IPY_MODEL_4ce4a5bba2b6413f8bd1cd5695dec574",
            "value": ""
          }
        },
        "c8d992b9038f4fd38be51f206026d596": {
          "model_module": "@jupyter-widgets/controls",
          "model_name": "FloatProgressModel",
          "model_module_version": "1.5.0",
          "state": {
            "_dom_classes": [],
            "_model_module": "@jupyter-widgets/controls",
            "_model_module_version": "1.5.0",
            "_model_name": "FloatProgressModel",
            "_view_count": null,
            "_view_module": "@jupyter-widgets/controls",
            "_view_module_version": "1.5.0",
            "_view_name": "ProgressView",
            "bar_style": "success",
            "description": "",
            "description_tooltip": null,
            "layout": "IPY_MODEL_b8f77baa450d488e903f97745244a386",
            "max": 29497,
            "min": 0,
            "orientation": "horizontal",
            "style": "IPY_MODEL_1eefa441cb7348b886ffca3c12eddbff",
            "value": 29497
          }
        },
        "4768ee6878474f5dadcbfea76615d66f": {
          "model_module": "@jupyter-widgets/controls",
          "model_name": "HTMLModel",
          "model_module_version": "1.5.0",
          "state": {
            "_dom_classes": [],
            "_model_module": "@jupyter-widgets/controls",
            "_model_module_version": "1.5.0",
            "_model_name": "HTMLModel",
            "_view_count": null,
            "_view_module": "@jupyter-widgets/controls",
            "_view_module_version": "1.5.0",
            "_view_name": "HTMLView",
            "description": "",
            "description_tooltip": null,
            "layout": "IPY_MODEL_e339b80b3aba41ae9aae69ace6e3208e",
            "placeholder": "​",
            "style": "IPY_MODEL_053fec81b83c4c87a6214cf046957fa1",
            "value": " 29696/? [00:00&lt;00:00, 93080.80it/s]"
          }
        },
        "dd24595adf954bcca6cdae0c00ff6d99": {
          "model_module": "@jupyter-widgets/base",
          "model_name": "LayoutModel",
          "model_module_version": "1.2.0",
          "state": {
            "_model_module": "@jupyter-widgets/base",
            "_model_module_version": "1.2.0",
            "_model_name": "LayoutModel",
            "_view_count": null,
            "_view_module": "@jupyter-widgets/base",
            "_view_module_version": "1.2.0",
            "_view_name": "LayoutView",
            "align_content": null,
            "align_items": null,
            "align_self": null,
            "border": null,
            "bottom": null,
            "display": null,
            "flex": null,
            "flex_flow": null,
            "grid_area": null,
            "grid_auto_columns": null,
            "grid_auto_flow": null,
            "grid_auto_rows": null,
            "grid_column": null,
            "grid_gap": null,
            "grid_row": null,
            "grid_template_areas": null,
            "grid_template_columns": null,
            "grid_template_rows": null,
            "height": null,
            "justify_content": null,
            "justify_items": null,
            "left": null,
            "margin": null,
            "max_height": null,
            "max_width": null,
            "min_height": null,
            "min_width": null,
            "object_fit": null,
            "object_position": null,
            "order": null,
            "overflow": null,
            "overflow_x": null,
            "overflow_y": null,
            "padding": null,
            "right": null,
            "top": null,
            "visibility": null,
            "width": null
          }
        },
        "f90dadce22024220b06adb7b2b7a7da9": {
          "model_module": "@jupyter-widgets/base",
          "model_name": "LayoutModel",
          "model_module_version": "1.2.0",
          "state": {
            "_model_module": "@jupyter-widgets/base",
            "_model_module_version": "1.2.0",
            "_model_name": "LayoutModel",
            "_view_count": null,
            "_view_module": "@jupyter-widgets/base",
            "_view_module_version": "1.2.0",
            "_view_name": "LayoutView",
            "align_content": null,
            "align_items": null,
            "align_self": null,
            "border": null,
            "bottom": null,
            "display": null,
            "flex": null,
            "flex_flow": null,
            "grid_area": null,
            "grid_auto_columns": null,
            "grid_auto_flow": null,
            "grid_auto_rows": null,
            "grid_column": null,
            "grid_gap": null,
            "grid_row": null,
            "grid_template_areas": null,
            "grid_template_columns": null,
            "grid_template_rows": null,
            "height": null,
            "justify_content": null,
            "justify_items": null,
            "left": null,
            "margin": null,
            "max_height": null,
            "max_width": null,
            "min_height": null,
            "min_width": null,
            "object_fit": null,
            "object_position": null,
            "order": null,
            "overflow": null,
            "overflow_x": null,
            "overflow_y": null,
            "padding": null,
            "right": null,
            "top": null,
            "visibility": null,
            "width": null
          }
        },
        "4ce4a5bba2b6413f8bd1cd5695dec574": {
          "model_module": "@jupyter-widgets/controls",
          "model_name": "DescriptionStyleModel",
          "model_module_version": "1.5.0",
          "state": {
            "_model_module": "@jupyter-widgets/controls",
            "_model_module_version": "1.5.0",
            "_model_name": "DescriptionStyleModel",
            "_view_count": null,
            "_view_module": "@jupyter-widgets/base",
            "_view_module_version": "1.2.0",
            "_view_name": "StyleView",
            "description_width": ""
          }
        },
        "b8f77baa450d488e903f97745244a386": {
          "model_module": "@jupyter-widgets/base",
          "model_name": "LayoutModel",
          "model_module_version": "1.2.0",
          "state": {
            "_model_module": "@jupyter-widgets/base",
            "_model_module_version": "1.2.0",
            "_model_name": "LayoutModel",
            "_view_count": null,
            "_view_module": "@jupyter-widgets/base",
            "_view_module_version": "1.2.0",
            "_view_name": "LayoutView",
            "align_content": null,
            "align_items": null,
            "align_self": null,
            "border": null,
            "bottom": null,
            "display": null,
            "flex": null,
            "flex_flow": null,
            "grid_area": null,
            "grid_auto_columns": null,
            "grid_auto_flow": null,
            "grid_auto_rows": null,
            "grid_column": null,
            "grid_gap": null,
            "grid_row": null,
            "grid_template_areas": null,
            "grid_template_columns": null,
            "grid_template_rows": null,
            "height": null,
            "justify_content": null,
            "justify_items": null,
            "left": null,
            "margin": null,
            "max_height": null,
            "max_width": null,
            "min_height": null,
            "min_width": null,
            "object_fit": null,
            "object_position": null,
            "order": null,
            "overflow": null,
            "overflow_x": null,
            "overflow_y": null,
            "padding": null,
            "right": null,
            "top": null,
            "visibility": null,
            "width": null
          }
        },
        "1eefa441cb7348b886ffca3c12eddbff": {
          "model_module": "@jupyter-widgets/controls",
          "model_name": "ProgressStyleModel",
          "model_module_version": "1.5.0",
          "state": {
            "_model_module": "@jupyter-widgets/controls",
            "_model_module_version": "1.5.0",
            "_model_name": "ProgressStyleModel",
            "_view_count": null,
            "_view_module": "@jupyter-widgets/base",
            "_view_module_version": "1.2.0",
            "_view_name": "StyleView",
            "bar_color": null,
            "description_width": ""
          }
        },
        "e339b80b3aba41ae9aae69ace6e3208e": {
          "model_module": "@jupyter-widgets/base",
          "model_name": "LayoutModel",
          "model_module_version": "1.2.0",
          "state": {
            "_model_module": "@jupyter-widgets/base",
            "_model_module_version": "1.2.0",
            "_model_name": "LayoutModel",
            "_view_count": null,
            "_view_module": "@jupyter-widgets/base",
            "_view_module_version": "1.2.0",
            "_view_name": "LayoutView",
            "align_content": null,
            "align_items": null,
            "align_self": null,
            "border": null,
            "bottom": null,
            "display": null,
            "flex": null,
            "flex_flow": null,
            "grid_area": null,
            "grid_auto_columns": null,
            "grid_auto_flow": null,
            "grid_auto_rows": null,
            "grid_column": null,
            "grid_gap": null,
            "grid_row": null,
            "grid_template_areas": null,
            "grid_template_columns": null,
            "grid_template_rows": null,
            "height": null,
            "justify_content": null,
            "justify_items": null,
            "left": null,
            "margin": null,
            "max_height": null,
            "max_width": null,
            "min_height": null,
            "min_width": null,
            "object_fit": null,
            "object_position": null,
            "order": null,
            "overflow": null,
            "overflow_x": null,
            "overflow_y": null,
            "padding": null,
            "right": null,
            "top": null,
            "visibility": null,
            "width": null
          }
        },
        "053fec81b83c4c87a6214cf046957fa1": {
          "model_module": "@jupyter-widgets/controls",
          "model_name": "DescriptionStyleModel",
          "model_module_version": "1.5.0",
          "state": {
            "_model_module": "@jupyter-widgets/controls",
            "_model_module_version": "1.5.0",
            "_model_name": "DescriptionStyleModel",
            "_view_count": null,
            "_view_module": "@jupyter-widgets/base",
            "_view_module_version": "1.2.0",
            "_view_name": "StyleView",
            "description_width": ""
          }
        },
        "f5cf31b55b6b41319c95278c8b729c04": {
          "model_module": "@jupyter-widgets/controls",
          "model_name": "HBoxModel",
          "model_module_version": "1.5.0",
          "state": {
            "_dom_classes": [],
            "_model_module": "@jupyter-widgets/controls",
            "_model_module_version": "1.5.0",
            "_model_name": "HBoxModel",
            "_view_count": null,
            "_view_module": "@jupyter-widgets/controls",
            "_view_module_version": "1.5.0",
            "_view_name": "HBoxView",
            "box_style": "",
            "children": [
              "IPY_MODEL_f6c2762fa28d4b60ba74291c4708bd3c",
              "IPY_MODEL_11c3e73444e643f2a185d46d86475eae",
              "IPY_MODEL_8b4ec4fead0749c89b24312f3f5a24b5"
            ],
            "layout": "IPY_MODEL_e8337ef82b634eb29914fa56d0376da7"
          }
        },
        "f6c2762fa28d4b60ba74291c4708bd3c": {
          "model_module": "@jupyter-widgets/controls",
          "model_name": "HTMLModel",
          "model_module_version": "1.5.0",
          "state": {
            "_dom_classes": [],
            "_model_module": "@jupyter-widgets/controls",
            "_model_module_version": "1.5.0",
            "_model_name": "HTMLModel",
            "_view_count": null,
            "_view_module": "@jupyter-widgets/controls",
            "_view_module_version": "1.5.0",
            "_view_name": "HTMLView",
            "description": "",
            "description_tooltip": null,
            "layout": "IPY_MODEL_050d8e63d7a545b6b6b9acbb6e2cf460",
            "placeholder": "​",
            "style": "IPY_MODEL_eda3375d5f1549f7b94d22165c05aaef",
            "value": ""
          }
        },
        "11c3e73444e643f2a185d46d86475eae": {
          "model_module": "@jupyter-widgets/controls",
          "model_name": "FloatProgressModel",
          "model_module_version": "1.5.0",
          "state": {
            "_dom_classes": [],
            "_model_module": "@jupyter-widgets/controls",
            "_model_module_version": "1.5.0",
            "_model_name": "FloatProgressModel",
            "_view_count": null,
            "_view_module": "@jupyter-widgets/controls",
            "_view_module_version": "1.5.0",
            "_view_name": "ProgressView",
            "bar_style": "success",
            "description": "",
            "description_tooltip": null,
            "layout": "IPY_MODEL_90809306461e4eec9dadcddf896014c2",
            "max": 3041136,
            "min": 0,
            "orientation": "horizontal",
            "style": "IPY_MODEL_c99a65c06c024f1ab5506044182fa461",
            "value": 3041136
          }
        },
        "8b4ec4fead0749c89b24312f3f5a24b5": {
          "model_module": "@jupyter-widgets/controls",
          "model_name": "HTMLModel",
          "model_module_version": "1.5.0",
          "state": {
            "_dom_classes": [],
            "_model_module": "@jupyter-widgets/controls",
            "_model_module_version": "1.5.0",
            "_model_name": "HTMLModel",
            "_view_count": null,
            "_view_module": "@jupyter-widgets/controls",
            "_view_module_version": "1.5.0",
            "_view_name": "HTMLView",
            "description": "",
            "description_tooltip": null,
            "layout": "IPY_MODEL_955e1c0bbd1f488393e5210a21fa2ec6",
            "placeholder": "​",
            "style": "IPY_MODEL_5a808ab660fc48f6a428589df3baf220",
            "value": " 3041280/? [00:02&lt;00:00, 1199250.76it/s]"
          }
        },
        "e8337ef82b634eb29914fa56d0376da7": {
          "model_module": "@jupyter-widgets/base",
          "model_name": "LayoutModel",
          "model_module_version": "1.2.0",
          "state": {
            "_model_module": "@jupyter-widgets/base",
            "_model_module_version": "1.2.0",
            "_model_name": "LayoutModel",
            "_view_count": null,
            "_view_module": "@jupyter-widgets/base",
            "_view_module_version": "1.2.0",
            "_view_name": "LayoutView",
            "align_content": null,
            "align_items": null,
            "align_self": null,
            "border": null,
            "bottom": null,
            "display": null,
            "flex": null,
            "flex_flow": null,
            "grid_area": null,
            "grid_auto_columns": null,
            "grid_auto_flow": null,
            "grid_auto_rows": null,
            "grid_column": null,
            "grid_gap": null,
            "grid_row": null,
            "grid_template_areas": null,
            "grid_template_columns": null,
            "grid_template_rows": null,
            "height": null,
            "justify_content": null,
            "justify_items": null,
            "left": null,
            "margin": null,
            "max_height": null,
            "max_width": null,
            "min_height": null,
            "min_width": null,
            "object_fit": null,
            "object_position": null,
            "order": null,
            "overflow": null,
            "overflow_x": null,
            "overflow_y": null,
            "padding": null,
            "right": null,
            "top": null,
            "visibility": null,
            "width": null
          }
        },
        "050d8e63d7a545b6b6b9acbb6e2cf460": {
          "model_module": "@jupyter-widgets/base",
          "model_name": "LayoutModel",
          "model_module_version": "1.2.0",
          "state": {
            "_model_module": "@jupyter-widgets/base",
            "_model_module_version": "1.2.0",
            "_model_name": "LayoutModel",
            "_view_count": null,
            "_view_module": "@jupyter-widgets/base",
            "_view_module_version": "1.2.0",
            "_view_name": "LayoutView",
            "align_content": null,
            "align_items": null,
            "align_self": null,
            "border": null,
            "bottom": null,
            "display": null,
            "flex": null,
            "flex_flow": null,
            "grid_area": null,
            "grid_auto_columns": null,
            "grid_auto_flow": null,
            "grid_auto_rows": null,
            "grid_column": null,
            "grid_gap": null,
            "grid_row": null,
            "grid_template_areas": null,
            "grid_template_columns": null,
            "grid_template_rows": null,
            "height": null,
            "justify_content": null,
            "justify_items": null,
            "left": null,
            "margin": null,
            "max_height": null,
            "max_width": null,
            "min_height": null,
            "min_width": null,
            "object_fit": null,
            "object_position": null,
            "order": null,
            "overflow": null,
            "overflow_x": null,
            "overflow_y": null,
            "padding": null,
            "right": null,
            "top": null,
            "visibility": null,
            "width": null
          }
        },
        "eda3375d5f1549f7b94d22165c05aaef": {
          "model_module": "@jupyter-widgets/controls",
          "model_name": "DescriptionStyleModel",
          "model_module_version": "1.5.0",
          "state": {
            "_model_module": "@jupyter-widgets/controls",
            "_model_module_version": "1.5.0",
            "_model_name": "DescriptionStyleModel",
            "_view_count": null,
            "_view_module": "@jupyter-widgets/base",
            "_view_module_version": "1.2.0",
            "_view_name": "StyleView",
            "description_width": ""
          }
        },
        "90809306461e4eec9dadcddf896014c2": {
          "model_module": "@jupyter-widgets/base",
          "model_name": "LayoutModel",
          "model_module_version": "1.2.0",
          "state": {
            "_model_module": "@jupyter-widgets/base",
            "_model_module_version": "1.2.0",
            "_model_name": "LayoutModel",
            "_view_count": null,
            "_view_module": "@jupyter-widgets/base",
            "_view_module_version": "1.2.0",
            "_view_name": "LayoutView",
            "align_content": null,
            "align_items": null,
            "align_self": null,
            "border": null,
            "bottom": null,
            "display": null,
            "flex": null,
            "flex_flow": null,
            "grid_area": null,
            "grid_auto_columns": null,
            "grid_auto_flow": null,
            "grid_auto_rows": null,
            "grid_column": null,
            "grid_gap": null,
            "grid_row": null,
            "grid_template_areas": null,
            "grid_template_columns": null,
            "grid_template_rows": null,
            "height": null,
            "justify_content": null,
            "justify_items": null,
            "left": null,
            "margin": null,
            "max_height": null,
            "max_width": null,
            "min_height": null,
            "min_width": null,
            "object_fit": null,
            "object_position": null,
            "order": null,
            "overflow": null,
            "overflow_x": null,
            "overflow_y": null,
            "padding": null,
            "right": null,
            "top": null,
            "visibility": null,
            "width": null
          }
        },
        "c99a65c06c024f1ab5506044182fa461": {
          "model_module": "@jupyter-widgets/controls",
          "model_name": "ProgressStyleModel",
          "model_module_version": "1.5.0",
          "state": {
            "_model_module": "@jupyter-widgets/controls",
            "_model_module_version": "1.5.0",
            "_model_name": "ProgressStyleModel",
            "_view_count": null,
            "_view_module": "@jupyter-widgets/base",
            "_view_module_version": "1.2.0",
            "_view_name": "StyleView",
            "bar_color": null,
            "description_width": ""
          }
        },
        "955e1c0bbd1f488393e5210a21fa2ec6": {
          "model_module": "@jupyter-widgets/base",
          "model_name": "LayoutModel",
          "model_module_version": "1.2.0",
          "state": {
            "_model_module": "@jupyter-widgets/base",
            "_model_module_version": "1.2.0",
            "_model_name": "LayoutModel",
            "_view_count": null,
            "_view_module": "@jupyter-widgets/base",
            "_view_module_version": "1.2.0",
            "_view_name": "LayoutView",
            "align_content": null,
            "align_items": null,
            "align_self": null,
            "border": null,
            "bottom": null,
            "display": null,
            "flex": null,
            "flex_flow": null,
            "grid_area": null,
            "grid_auto_columns": null,
            "grid_auto_flow": null,
            "grid_auto_rows": null,
            "grid_column": null,
            "grid_gap": null,
            "grid_row": null,
            "grid_template_areas": null,
            "grid_template_columns": null,
            "grid_template_rows": null,
            "height": null,
            "justify_content": null,
            "justify_items": null,
            "left": null,
            "margin": null,
            "max_height": null,
            "max_width": null,
            "min_height": null,
            "min_width": null,
            "object_fit": null,
            "object_position": null,
            "order": null,
            "overflow": null,
            "overflow_x": null,
            "overflow_y": null,
            "padding": null,
            "right": null,
            "top": null,
            "visibility": null,
            "width": null
          }
        },
        "5a808ab660fc48f6a428589df3baf220": {
          "model_module": "@jupyter-widgets/controls",
          "model_name": "DescriptionStyleModel",
          "model_module_version": "1.5.0",
          "state": {
            "_model_module": "@jupyter-widgets/controls",
            "_model_module_version": "1.5.0",
            "_model_name": "DescriptionStyleModel",
            "_view_count": null,
            "_view_module": "@jupyter-widgets/base",
            "_view_module_version": "1.2.0",
            "_view_name": "StyleView",
            "description_width": ""
          }
        },
        "78d9a98c759c4bc8963fdade97fe7c05": {
          "model_module": "@jupyter-widgets/controls",
          "model_name": "HBoxModel",
          "model_module_version": "1.5.0",
          "state": {
            "_dom_classes": [],
            "_model_module": "@jupyter-widgets/controls",
            "_model_module_version": "1.5.0",
            "_model_name": "HBoxModel",
            "_view_count": null,
            "_view_module": "@jupyter-widgets/controls",
            "_view_module_version": "1.5.0",
            "_view_name": "HBoxView",
            "box_style": "",
            "children": [
              "IPY_MODEL_0838afa48aa34e22b4b65ae56d15ef5d",
              "IPY_MODEL_4a8a4d7828f84e889cb04caeb746917a",
              "IPY_MODEL_826f11c631484cf0b1b01cb05a05377e"
            ],
            "layout": "IPY_MODEL_3cacef80bcf542c4a0fdc45951f20f62"
          }
        },
        "0838afa48aa34e22b4b65ae56d15ef5d": {
          "model_module": "@jupyter-widgets/controls",
          "model_name": "HTMLModel",
          "model_module_version": "1.5.0",
          "state": {
            "_dom_classes": [],
            "_model_module": "@jupyter-widgets/controls",
            "_model_module_version": "1.5.0",
            "_model_name": "HTMLModel",
            "_view_count": null,
            "_view_module": "@jupyter-widgets/controls",
            "_view_module_version": "1.5.0",
            "_view_name": "HTMLView",
            "description": "",
            "description_tooltip": null,
            "layout": "IPY_MODEL_a28b996646ed432ca68a79f18cbd2def",
            "placeholder": "​",
            "style": "IPY_MODEL_d680b504e4774419a3b655f3c325b19d",
            "value": "100%"
          }
        },
        "4a8a4d7828f84e889cb04caeb746917a": {
          "model_module": "@jupyter-widgets/controls",
          "model_name": "FloatProgressModel",
          "model_module_version": "1.5.0",
          "state": {
            "_dom_classes": [],
            "_model_module": "@jupyter-widgets/controls",
            "_model_module_version": "1.5.0",
            "_model_name": "FloatProgressModel",
            "_view_count": null,
            "_view_module": "@jupyter-widgets/controls",
            "_view_module_version": "1.5.0",
            "_view_name": "ProgressView",
            "bar_style": "success",
            "description": "",
            "description_tooltip": null,
            "layout": "IPY_MODEL_a0610854fab944efb8eb0d673591a362",
            "max": 5120,
            "min": 0,
            "orientation": "horizontal",
            "style": "IPY_MODEL_f1602704b277495db716806cdd7e6176",
            "value": 5120
          }
        },
        "826f11c631484cf0b1b01cb05a05377e": {
          "model_module": "@jupyter-widgets/controls",
          "model_name": "HTMLModel",
          "model_module_version": "1.5.0",
          "state": {
            "_dom_classes": [],
            "_model_module": "@jupyter-widgets/controls",
            "_model_module_version": "1.5.0",
            "_model_name": "HTMLModel",
            "_view_count": null,
            "_view_module": "@jupyter-widgets/controls",
            "_view_module_version": "1.5.0",
            "_view_name": "HTMLView",
            "description": "",
            "description_tooltip": null,
            "layout": "IPY_MODEL_104e78f8f911436690ad8d10506b10b5",
            "placeholder": "​",
            "style": "IPY_MODEL_d371f2a4567c40a68f3440706597345a",
            "value": " 5120/5120 [00:00&lt;00:00, 134171.61it/s]"
          }
        },
        "3cacef80bcf542c4a0fdc45951f20f62": {
          "model_module": "@jupyter-widgets/base",
          "model_name": "LayoutModel",
          "model_module_version": "1.2.0",
          "state": {
            "_model_module": "@jupyter-widgets/base",
            "_model_module_version": "1.2.0",
            "_model_name": "LayoutModel",
            "_view_count": null,
            "_view_module": "@jupyter-widgets/base",
            "_view_module_version": "1.2.0",
            "_view_name": "LayoutView",
            "align_content": null,
            "align_items": null,
            "align_self": null,
            "border": null,
            "bottom": null,
            "display": null,
            "flex": null,
            "flex_flow": null,
            "grid_area": null,
            "grid_auto_columns": null,
            "grid_auto_flow": null,
            "grid_auto_rows": null,
            "grid_column": null,
            "grid_gap": null,
            "grid_row": null,
            "grid_template_areas": null,
            "grid_template_columns": null,
            "grid_template_rows": null,
            "height": null,
            "justify_content": null,
            "justify_items": null,
            "left": null,
            "margin": null,
            "max_height": null,
            "max_width": null,
            "min_height": null,
            "min_width": null,
            "object_fit": null,
            "object_position": null,
            "order": null,
            "overflow": null,
            "overflow_x": null,
            "overflow_y": null,
            "padding": null,
            "right": null,
            "top": null,
            "visibility": null,
            "width": null
          }
        },
        "a28b996646ed432ca68a79f18cbd2def": {
          "model_module": "@jupyter-widgets/base",
          "model_name": "LayoutModel",
          "model_module_version": "1.2.0",
          "state": {
            "_model_module": "@jupyter-widgets/base",
            "_model_module_version": "1.2.0",
            "_model_name": "LayoutModel",
            "_view_count": null,
            "_view_module": "@jupyter-widgets/base",
            "_view_module_version": "1.2.0",
            "_view_name": "LayoutView",
            "align_content": null,
            "align_items": null,
            "align_self": null,
            "border": null,
            "bottom": null,
            "display": null,
            "flex": null,
            "flex_flow": null,
            "grid_area": null,
            "grid_auto_columns": null,
            "grid_auto_flow": null,
            "grid_auto_rows": null,
            "grid_column": null,
            "grid_gap": null,
            "grid_row": null,
            "grid_template_areas": null,
            "grid_template_columns": null,
            "grid_template_rows": null,
            "height": null,
            "justify_content": null,
            "justify_items": null,
            "left": null,
            "margin": null,
            "max_height": null,
            "max_width": null,
            "min_height": null,
            "min_width": null,
            "object_fit": null,
            "object_position": null,
            "order": null,
            "overflow": null,
            "overflow_x": null,
            "overflow_y": null,
            "padding": null,
            "right": null,
            "top": null,
            "visibility": null,
            "width": null
          }
        },
        "d680b504e4774419a3b655f3c325b19d": {
          "model_module": "@jupyter-widgets/controls",
          "model_name": "DescriptionStyleModel",
          "model_module_version": "1.5.0",
          "state": {
            "_model_module": "@jupyter-widgets/controls",
            "_model_module_version": "1.5.0",
            "_model_name": "DescriptionStyleModel",
            "_view_count": null,
            "_view_module": "@jupyter-widgets/base",
            "_view_module_version": "1.2.0",
            "_view_name": "StyleView",
            "description_width": ""
          }
        },
        "a0610854fab944efb8eb0d673591a362": {
          "model_module": "@jupyter-widgets/base",
          "model_name": "LayoutModel",
          "model_module_version": "1.2.0",
          "state": {
            "_model_module": "@jupyter-widgets/base",
            "_model_module_version": "1.2.0",
            "_model_name": "LayoutModel",
            "_view_count": null,
            "_view_module": "@jupyter-widgets/base",
            "_view_module_version": "1.2.0",
            "_view_name": "LayoutView",
            "align_content": null,
            "align_items": null,
            "align_self": null,
            "border": null,
            "bottom": null,
            "display": null,
            "flex": null,
            "flex_flow": null,
            "grid_area": null,
            "grid_auto_columns": null,
            "grid_auto_flow": null,
            "grid_auto_rows": null,
            "grid_column": null,
            "grid_gap": null,
            "grid_row": null,
            "grid_template_areas": null,
            "grid_template_columns": null,
            "grid_template_rows": null,
            "height": null,
            "justify_content": null,
            "justify_items": null,
            "left": null,
            "margin": null,
            "max_height": null,
            "max_width": null,
            "min_height": null,
            "min_width": null,
            "object_fit": null,
            "object_position": null,
            "order": null,
            "overflow": null,
            "overflow_x": null,
            "overflow_y": null,
            "padding": null,
            "right": null,
            "top": null,
            "visibility": null,
            "width": null
          }
        },
        "f1602704b277495db716806cdd7e6176": {
          "model_module": "@jupyter-widgets/controls",
          "model_name": "ProgressStyleModel",
          "model_module_version": "1.5.0",
          "state": {
            "_model_module": "@jupyter-widgets/controls",
            "_model_module_version": "1.5.0",
            "_model_name": "ProgressStyleModel",
            "_view_count": null,
            "_view_module": "@jupyter-widgets/base",
            "_view_module_version": "1.2.0",
            "_view_name": "StyleView",
            "bar_color": null,
            "description_width": ""
          }
        },
        "104e78f8f911436690ad8d10506b10b5": {
          "model_module": "@jupyter-widgets/base",
          "model_name": "LayoutModel",
          "model_module_version": "1.2.0",
          "state": {
            "_model_module": "@jupyter-widgets/base",
            "_model_module_version": "1.2.0",
            "_model_name": "LayoutModel",
            "_view_count": null,
            "_view_module": "@jupyter-widgets/base",
            "_view_module_version": "1.2.0",
            "_view_name": "LayoutView",
            "align_content": null,
            "align_items": null,
            "align_self": null,
            "border": null,
            "bottom": null,
            "display": null,
            "flex": null,
            "flex_flow": null,
            "grid_area": null,
            "grid_auto_columns": null,
            "grid_auto_flow": null,
            "grid_auto_rows": null,
            "grid_column": null,
            "grid_gap": null,
            "grid_row": null,
            "grid_template_areas": null,
            "grid_template_columns": null,
            "grid_template_rows": null,
            "height": null,
            "justify_content": null,
            "justify_items": null,
            "left": null,
            "margin": null,
            "max_height": null,
            "max_width": null,
            "min_height": null,
            "min_width": null,
            "object_fit": null,
            "object_position": null,
            "order": null,
            "overflow": null,
            "overflow_x": null,
            "overflow_y": null,
            "padding": null,
            "right": null,
            "top": null,
            "visibility": null,
            "width": null
          }
        },
        "d371f2a4567c40a68f3440706597345a": {
          "model_module": "@jupyter-widgets/controls",
          "model_name": "DescriptionStyleModel",
          "model_module_version": "1.5.0",
          "state": {
            "_model_module": "@jupyter-widgets/controls",
            "_model_module_version": "1.5.0",
            "_model_name": "DescriptionStyleModel",
            "_view_count": null,
            "_view_module": "@jupyter-widgets/base",
            "_view_module_version": "1.2.0",
            "_view_name": "StyleView",
            "description_width": ""
          }
        }
      }
    }
  },
  "cells": [
    {
      "cell_type": "code",
      "execution_count": 1,
      "metadata": {
        "id": "AKoRuORk_x8T"
      },
      "outputs": [],
      "source": [
        "import numpy as np\n",
        "import matplotlib.pyplot as plt\n",
        "import torch\n",
        "import torch.nn.functional as F\n",
        "import torch.nn as nn \n",
        "from torchvision import datasets, transforms\n",
        "import torch.utils.data as data\n",
        "from torch.utils.data import DataLoader\n",
        "import time\n",
        "import scipy\n",
        "from PIL import Image\n",
        "from scipy import ndimage\n",
        "from google.colab import files\n",
        "import collections\n",
        "\n",
        "seed = 1\n",
        "torch.manual_seed(seed)\n",
        "torch.backends.cudnn.deterministic = True  \n",
        "torch.backends.cudnn.benchmark = False\n",
        "np.random.seed(seed)\n",
        "\n",
        "%matplotlib inline"
      ]
    },
    {
      "cell_type": "code",
      "source": [
        "transformCustom = transforms.Compose([\n",
        "                                transforms.ToTensor(), #this convert to tensor\n",
        "                                transforms.Lambda(lambda x:x.view(-1)),  #this flatten 28*28 into a 784 vector for each image\n",
        "])\n",
        "\n",
        "dataset = datasets.KMNIST(root='.',train=True,transform=transformCustom, download=True)\n",
        "test = datasets.KMNIST(root='.', train=False, transform=transformCustom,download=True)"
      ],
      "metadata": {
        "id": "Rv3mSqdSAH3b",
        "colab": {
          "base_uri": "https://localhost:8080/",
          "height": 423,
          "referenced_widgets": [
            "ca626640e00c4fa493edb11143a60b2b",
            "6ac8b7b4eea3450d8a9b0397e370819b",
            "dfe39de0ad1d408f95d63797d3e60bd0",
            "164ec9726031424c878a96ef10744036",
            "9ecb80c50ba74c40acc1d1f9c7a29de2",
            "8fceb6b6a0e14607ab8bb1b8d138b23e",
            "5a66796d4d1a43ff88ee0d541f28eacc",
            "556d32a4e0bf496b918f4d7d1aea135e",
            "43be8454d3d747f29bd5f531bd7632da",
            "bd55a70489a94aefa9c08c4df1de7238",
            "c16493969ee24ecfbdcbc11976c8d69d",
            "165402bcaacd4c0db99776fd2b378c90",
            "f262a8591395452e8adcabd9afc892b4",
            "c8d992b9038f4fd38be51f206026d596",
            "4768ee6878474f5dadcbfea76615d66f",
            "dd24595adf954bcca6cdae0c00ff6d99",
            "f90dadce22024220b06adb7b2b7a7da9",
            "4ce4a5bba2b6413f8bd1cd5695dec574",
            "b8f77baa450d488e903f97745244a386",
            "1eefa441cb7348b886ffca3c12eddbff",
            "e339b80b3aba41ae9aae69ace6e3208e",
            "053fec81b83c4c87a6214cf046957fa1",
            "f5cf31b55b6b41319c95278c8b729c04",
            "f6c2762fa28d4b60ba74291c4708bd3c",
            "11c3e73444e643f2a185d46d86475eae",
            "8b4ec4fead0749c89b24312f3f5a24b5",
            "e8337ef82b634eb29914fa56d0376da7",
            "050d8e63d7a545b6b6b9acbb6e2cf460",
            "eda3375d5f1549f7b94d22165c05aaef",
            "90809306461e4eec9dadcddf896014c2",
            "c99a65c06c024f1ab5506044182fa461",
            "955e1c0bbd1f488393e5210a21fa2ec6",
            "5a808ab660fc48f6a428589df3baf220",
            "78d9a98c759c4bc8963fdade97fe7c05",
            "0838afa48aa34e22b4b65ae56d15ef5d",
            "4a8a4d7828f84e889cb04caeb746917a",
            "826f11c631484cf0b1b01cb05a05377e",
            "3cacef80bcf542c4a0fdc45951f20f62",
            "a28b996646ed432ca68a79f18cbd2def",
            "d680b504e4774419a3b655f3c325b19d",
            "a0610854fab944efb8eb0d673591a362",
            "f1602704b277495db716806cdd7e6176",
            "104e78f8f911436690ad8d10506b10b5",
            "d371f2a4567c40a68f3440706597345a"
          ]
        },
        "outputId": "c9dbc04f-15ea-4d37-c4cf-6fe89c567c78"
      },
      "execution_count": 2,
      "outputs": [
        {
          "output_type": "stream",
          "name": "stdout",
          "text": [
            "Downloading http://codh.rois.ac.jp/kmnist/dataset/kmnist/train-images-idx3-ubyte.gz\n",
            "Downloading http://codh.rois.ac.jp/kmnist/dataset/kmnist/train-images-idx3-ubyte.gz to ./KMNIST/raw/train-images-idx3-ubyte.gz\n"
          ]
        },
        {
          "output_type": "display_data",
          "data": {
            "text/plain": [
              "  0%|          | 0/18165135 [00:00<?, ?it/s]"
            ],
            "application/vnd.jupyter.widget-view+json": {
              "version_major": 2,
              "version_minor": 0,
              "model_id": "ca626640e00c4fa493edb11143a60b2b"
            }
          },
          "metadata": {}
        },
        {
          "output_type": "stream",
          "name": "stdout",
          "text": [
            "Extracting ./KMNIST/raw/train-images-idx3-ubyte.gz to ./KMNIST/raw\n",
            "\n",
            "Downloading http://codh.rois.ac.jp/kmnist/dataset/kmnist/train-labels-idx1-ubyte.gz\n",
            "Downloading http://codh.rois.ac.jp/kmnist/dataset/kmnist/train-labels-idx1-ubyte.gz to ./KMNIST/raw/train-labels-idx1-ubyte.gz\n"
          ]
        },
        {
          "output_type": "display_data",
          "data": {
            "text/plain": [
              "  0%|          | 0/29497 [00:00<?, ?it/s]"
            ],
            "application/vnd.jupyter.widget-view+json": {
              "version_major": 2,
              "version_minor": 0,
              "model_id": "165402bcaacd4c0db99776fd2b378c90"
            }
          },
          "metadata": {}
        },
        {
          "output_type": "stream",
          "name": "stdout",
          "text": [
            "Extracting ./KMNIST/raw/train-labels-idx1-ubyte.gz to ./KMNIST/raw\n",
            "\n",
            "Downloading http://codh.rois.ac.jp/kmnist/dataset/kmnist/t10k-images-idx3-ubyte.gz\n",
            "Downloading http://codh.rois.ac.jp/kmnist/dataset/kmnist/t10k-images-idx3-ubyte.gz to ./KMNIST/raw/t10k-images-idx3-ubyte.gz\n"
          ]
        },
        {
          "output_type": "display_data",
          "data": {
            "text/plain": [
              "  0%|          | 0/3041136 [00:00<?, ?it/s]"
            ],
            "application/vnd.jupyter.widget-view+json": {
              "version_major": 2,
              "version_minor": 0,
              "model_id": "f5cf31b55b6b41319c95278c8b729c04"
            }
          },
          "metadata": {}
        },
        {
          "output_type": "stream",
          "name": "stdout",
          "text": [
            "Extracting ./KMNIST/raw/t10k-images-idx3-ubyte.gz to ./KMNIST/raw\n",
            "\n",
            "Downloading http://codh.rois.ac.jp/kmnist/dataset/kmnist/t10k-labels-idx1-ubyte.gz\n",
            "Downloading http://codh.rois.ac.jp/kmnist/dataset/kmnist/t10k-labels-idx1-ubyte.gz to ./KMNIST/raw/t10k-labels-idx1-ubyte.gz\n"
          ]
        },
        {
          "output_type": "display_data",
          "data": {
            "text/plain": [
              "  0%|          | 0/5120 [00:00<?, ?it/s]"
            ],
            "application/vnd.jupyter.widget-view+json": {
              "version_major": 2,
              "version_minor": 0,
              "model_id": "78d9a98c759c4bc8963fdade97fe7c05"
            }
          },
          "metadata": {}
        },
        {
          "output_type": "stream",
          "name": "stdout",
          "text": [
            "Extracting ./KMNIST/raw/t10k-labels-idx1-ubyte.gz to ./KMNIST/raw\n",
            "\n"
          ]
        }
      ]
    },
    {
      "cell_type": "code",
      "source": [
        "#Split the dataset into train and validation set\n",
        "n_train = 50000\n",
        "n_valid= 10000\n",
        "train_data, valid_data = data.random_split(dataset, [n_train, n_valid])"
      ],
      "metadata": {
        "id": "_6Ks5mdMwtXu"
      },
      "execution_count": 3,
      "outputs": []
    },
    {
      "cell_type": "markdown",
      "source": [
        "##Check 1. Visualize a few sample images from the dataset"
      ],
      "metadata": {
        "id": "sBgTkWakpuOm"
      }
    },
    {
      "cell_type": "code",
      "source": [
        "plt.figure(figsize=(10,10))\n",
        "for i in range(25): #visualizing first 25 images from the training set\n",
        "    plt.subplot(5,5,i+1) \n",
        "    image, label = train_data[i]\n",
        "    plt.imshow(image.reshape((28,28)), cmap='gray')\n",
        "plt.show()"
      ],
      "metadata": {
        "id": "GhYZqRzKEPK4",
        "colab": {
          "base_uri": "https://localhost:8080/",
          "height": 594
        },
        "outputId": "b00834bc-90ef-41de-e4ad-71dee036e8c0"
      },
      "execution_count": 4,
      "outputs": [
        {
          "output_type": "display_data",
          "data": {
            "text/plain": [
              "<Figure size 720x720 with 25 Axes>"
            ],
            "image/png": "[encoded data removed]"
          },
          "metadata": {
            "needs_background": "light"
          }
        }
      ]
    },
    {
      "cell_type": "markdown",
      "source": [
        "##Check 2. Check the number of instances of each labels in both training and test dataset.\n"
      ],
      "metadata": {
        "id": "o4twcuu50bRv"
      }
    },
    {
      "cell_type": "code",
      "source": [
        "def print_instance(dataset):\n",
        "  print(\"--Number of instances for each classes--\")\n",
        "  label = []\n",
        "  for i in range(len(dataset)):\n",
        "    label.append(dataset[i][1])\n",
        "  for i in range(10):\n",
        "    print(\"Label {}: \".format(i), label.count(i))\n",
        "  print(\"Total: \", len(label))\n",
        "\n",
        "print(\"///////////Training dataset//////////\")\n",
        "print_instance(train_data)\n",
        "print(\"///////////Cross Validation dataset//////////\")\n",
        "print_instance(valid_data)\n",
        "print(\"///////////Test dataset//////////\")\n",
        "print_instance(test)"
      ],
      "metadata": {
        "colab": {
          "base_uri": "https://localhost:8080/"
        },
        "id": "3UTuI0tu0ekJ",
        "outputId": "b9851358-c0dd-4eae-9d78-0d0997071b06"
      },
      "execution_count": 5,
      "outputs": [
        {
          "output_type": "stream",
          "name": "stdout",
          "text": [
            "///////////Training dataset//////////\n",
            "--Number of instances for each classes--\n",
            "Label 0:  4981\n",
            "Label 1:  4968\n",
            "Label 2:  4991\n",
            "Label 3:  5044\n",
            "Label 4:  5063\n",
            "Label 5:  4986\n",
            "Label 6:  4995\n",
            "Label 7:  4976\n",
            "Label 8:  4994\n",
            "Label 9:  5002\n",
            "Total:  50000\n",
            "///////////Cross Validation dataset//////////\n",
            "--Number of instances for each classes--\n",
            "Label 0:  1019\n",
            "Label 1:  1032\n",
            "Label 2:  1009\n",
            "Label 3:  956\n",
            "Label 4:  937\n",
            "Label 5:  1014\n",
            "Label 6:  1005\n",
            "Label 7:  1024\n",
            "Label 8:  1006\n",
            "Label 9:  998\n",
            "Total:  10000\n",
            "///////////Test dataset//////////\n",
            "--Number of instances for each classes--\n",
            "Label 0:  1000\n",
            "Label 1:  1000\n",
            "Label 2:  1000\n",
            "Label 3:  1000\n",
            "Label 4:  1000\n",
            "Label 5:  1000\n",
            "Label 6:  1000\n",
            "Label 7:  1000\n",
            "Label 8:  1000\n",
            "Label 9:  1000\n",
            "Total:  10000\n"
          ]
        }
      ]
    },
    {
      "cell_type": "markdown",
      "source": [
        "#Model Training"
      ],
      "metadata": {
        "id": "EEV6fFgR3u4L"
      }
    },
    {
      "cell_type": "code",
      "source": [
        "#Set DataLoader\n",
        "batchSize = 128 \n",
        "train_loader = DataLoader(train_data, batch_size=batchSize,shuffle=True)\n",
        "valid_loader = DataLoader(valid_data, batch_size=batchSize)\n",
        "test_loader = DataLoader(test, batch_size=batchSize, shuffle=False)"
      ],
      "metadata": {
        "id": "vNG7fJCl3w9_"
      },
      "execution_count": 6,
      "outputs": []
    },
    {
      "cell_type": "code",
      "source": [
        "class MLP(nn.Module): #MLP with one hidden layer\n",
        "  def __init__(self,input_size, hidden_size,num_classes):\n",
        "    super(MLP,self).__init__()\n",
        "\n",
        "    self.layer1 = nn.Linear(input_size,hidden_size) \n",
        "    self.layer2 = nn.Linear(hidden_size,num_classes)\n",
        "\n",
        "  def forward(self,x): \n",
        "    out = self.layer1(x)\n",
        "    out = torch.relu(out)\n",
        "    out = self.layer2(out)\n",
        "    if not self.training:\n",
        "      out = F.softmax(out,dim=1)\n",
        "    return out\n",
        "   "
      ],
      "metadata": {
        "id": "drBNKoiE6L04"
      },
      "execution_count": 7,
      "outputs": []
    },
    {
      "cell_type": "code",
      "source": [
        "class DeepMLP(nn.Module): #MLP with several hidden layers\n",
        "  def __init__(self, Layers):\n",
        "    super(DeepMLP, self).__init__()\n",
        "    self.hidden = nn.ModuleList()\n",
        "    for in_size, out_size in zip(Layers, Layers[1:]):\n",
        "      self.hidden.append(nn.Linear(in_size, out_size))\n",
        "\n",
        "  def forward(self, x):\n",
        "    for (l, layer) in zip(range(len(self.hidden)), self.hidden):\n",
        "      if l < len(self.hidden) - 1:\n",
        "        x = torch.relu(layer(x))\n",
        "      else:\n",
        "        x = layer(x)\n",
        "    return x"
      ],
      "metadata": {
        "id": "3jDLTmBuOJAg"
      },
      "execution_count": 8,
      "outputs": []
    },
    {
      "cell_type": "code",
      "source": [
        "#takes the index of the highest value of prediction and compares it against the actual class label. \n",
        "def calculate_accuracy(y_hat, target):\n",
        "    predicted = y_hat.argmax(1, keepdim=True)\n",
        "    correct = predicted.eq(target.view_as(predicted)).sum() #divide how many our model got correct by the amount in the batch\n",
        "    acc = correct.float() / target.shape[0]\n",
        "    return acc, target.shape[0]-correct #return accuracy and number of wrong predicted values"
      ],
      "metadata": {
        "id": "fZGFgUcqm81w"
      },
      "execution_count": 9,
      "outputs": []
    },
    {
      "cell_type": "code",
      "source": [
        "def train(data_loader, model, epochSize, loss_fn, opt, device):\n",
        "    loss = []\n",
        "    batch_losses = torch.empty(epochSize*len(data_loader))\n",
        "    i=0\n",
        "    accuracy = 0\n",
        "    wrong = 0\n",
        "    for epoch in range(epochSize):\n",
        "      epoch_loss, epoch_acc, epoch_wrong = 0, 0, 0\n",
        "      for input_batch, target_batch in data_loader: #Load the data \n",
        "        input_batch, target_batch = input_batch.to(device), target_batch.to(device)\n",
        "        opt.zero_grad() #Zero the gradients\n",
        "        predict_batch = model(input_batch) #Forward pass\n",
        "        loss_batch = loss_fn(predict_batch,target_batch)  #Compute loss\n",
        "        acc_batch, wrong_batch = calculate_accuracy(predict_batch, target_batch) #Compute acc\n",
        "        loss_batch.backward()  #Backward pass and update weights\n",
        "        opt.step()\n",
        "        epoch_loss += loss_batch.item() #store the loss   \n",
        "        epoch_acc += acc_batch.item() #store the accuracy\n",
        "        epoch_wrong += wrong_batch.item()\n",
        "        batch_losses[i] = loss_batch #store batch losses\n",
        "        i+=1\n",
        "      wrong = epoch_wrong\n",
        "      accuracy = epoch_acc\n",
        "      loss.append(epoch_loss)\n",
        "    return loss, batch_losses, accuracy/len(data_loader) * 100, wrong"
      ],
      "metadata": {
        "id": "DJ56rLaxBxpr"
      },
      "execution_count": 10,
      "outputs": []
    },
    {
      "cell_type": "code",
      "source": [
        "def evaluate(data_loader, model, epoch_size, loss_fn, device):\n",
        "  model.eval()\n",
        "  loss = []\n",
        "  batch_losses = torch.empty(epochSize*len(data_loader))\n",
        "  i, accuracy, wrong = 0, 0, 0\n",
        "  with torch.no_grad():\n",
        "    for epoch in range(epochSize):\n",
        "      epoch_loss, epoch_acc, epoch_wrong = 0, 0, 0\n",
        "      for input_batch, target_batch in data_loader: #Load the data \n",
        "        input_batch, target_batch = input_batch.to(device), target_batch.to(device)\n",
        "        predict_batch = model(input_batch) \n",
        "        loss_batch = loss_fn(predict_batch,target_batch)  #Compute loss\n",
        "        acc_batch, wrong_batch = calculate_accuracy(predict_batch, target_batch) #Compute acc\n",
        "        epoch_loss += loss_batch.item() #store the loss   \n",
        "        epoch_acc += acc_batch.item() #store the accuracy\n",
        "        epoch_wrong += wrong_batch.item()\n",
        "        batch_losses[i] = loss_batch #store batch losses\n",
        "        i+=1\n",
        "      wrong = epoch_wrong\n",
        "      accuracy = epoch_acc\n",
        "      loss.append(epoch_loss)\n",
        "    return loss, batch_losses, accuracy/len(data_loader) * 100, wrong\n"
      ],
      "metadata": {
        "id": "3hNrpGChAfIV"
      },
      "execution_count": 11,
      "outputs": []
    },
    {
      "cell_type": "code",
      "source": [
        "def time_elapsed(start_time, end_time): #function to measure the training time\n",
        "    elapsed_time = end_time - start_time\n",
        "    elapsed_mins = int(elapsed_time / 60)\n",
        "    elapsed_secs = int(elapsed_time - (elapsed_mins * 60))\n",
        "    return elapsed_mins, elapsed_secs"
      ],
      "metadata": {
        "id": "RsYvLlr6mN0L"
      },
      "execution_count": 12,
      "outputs": []
    },
    {
      "cell_type": "code",
      "source": [
        "#Model 1\n",
        "model = MLP(784, 1024, 10) #input_size,hidden_size,num_classes\n",
        "epochSize = 10\n",
        "learning_rate = 0.001\n",
        "optimizer = torch.optim.Adam(model.parameters(), lr=learning_rate) "
      ],
      "metadata": {
        "id": "fXQygZ0dMdh8"
      },
      "execution_count": 75,
      "outputs": []
    },
    {
      "cell_type": "code",
      "source": [
        "#Model 2\n",
        "model = DeepMLP([784, 512, 512, 10])\n",
        "epochSize = 10\n",
        "learning_rate = 0.001\n",
        "optimizer = torch.optim.Adam(model.parameters(), lr=learning_rate)  "
      ],
      "metadata": {
        "id": "QqIDKq4uMoL7"
      },
      "execution_count": 31,
      "outputs": []
    },
    {
      "cell_type": "code",
      "source": [
        "#Model 3\n",
        "model = DeepMLP([784, 1568, 512, 10])\n",
        "epochSize = 10\n",
        "learning_rate = 0.001\n",
        "optimizer = torch.optim.Adam(model.parameters(), lr=learning_rate)  "
      ],
      "metadata": {
        "id": "9VxdPTmPQIyH"
      },
      "execution_count": 59,
      "outputs": []
    },
    {
      "cell_type": "code",
      "source": [
        "#Model 4\n",
        "model = DeepMLP([784, 1024, 512, 256, 10])\n",
        "epochSize = 10\n",
        "learning_rate = 0.001\n",
        "optimizer = torch.optim.Adam(model.parameters(), lr=learning_rate)  "
      ],
      "metadata": {
        "id": "SfkS6DI5V1u1"
      },
      "execution_count": 64,
      "outputs": []
    },
    {
      "cell_type": "code",
      "source": [
        "#Model 5\n",
        "model = DeepMLP([784, 2048, 1024, 10])\n",
        "epochSize = 10\n",
        "learning_rate = 0.001\n",
        "optimizer = torch.optim.Adam(model.parameters(), lr=learning_rate)  "
      ],
      "metadata": {
        "id": "-wE5fIVEXrSl"
      },
      "execution_count": 83,
      "outputs": []
    },
    {
      "cell_type": "code",
      "source": [
        "#Model 6\n",
        "model = DeepMLP([784, 1568, 1024, 512, 10])\n",
        "epochSize = 10\n",
        "learning_rate = 0.001\n",
        "optimizer = torch.optim.Adam(model.parameters(), lr=learning_rate)  "
      ],
      "metadata": {
        "id": "Ufiecp6OXbbA"
      },
      "execution_count": 26,
      "outputs": []
    },
    {
      "cell_type": "code",
      "source": [
        "#Model 7\n",
        "model = DeepMLP([784, 2048, 1568, 10])\n",
        "epochSize = 15\n",
        "learning_rate = 0.001\n",
        "optimizer = torch.optim.Adam(model.parameters(), lr=learning_rate)  "
      ],
      "metadata": {
        "id": "LnmSbSfHZjEO"
      },
      "execution_count": 115,
      "outputs": []
    },
    {
      "cell_type": "code",
      "source": [
        "#Model 8\n",
        "model = DeepMLP([784, 1568, 1024, 521, 256, 10])\n",
        "epochSize = 15\n",
        "learning_rate = 0.001\n",
        "optimizer = torch.optim.Adam(model.parameters(), lr=learning_rate)"
      ],
      "metadata": {
        "id": "tzZ0ZZ_xa4UG"
      },
      "execution_count": 123,
      "outputs": []
    },
    {
      "cell_type": "code",
      "source": [
        "#Model 9\n",
        "model = DeepMLP([784, 2048, 1568, 10])\n",
        "epochSize = 15\n",
        "learning_rate = 0.01\n",
        "optimizer = torch.optim.SGD(model.parameters(), lr=learning_rate)"
      ],
      "metadata": {
        "id": "PklwwbDOcwdg"
      },
      "execution_count": 136,
      "outputs": []
    },
    {
      "cell_type": "code",
      "source": [
        "#Model 10\n",
        "model = DeepMLP([784, 1568, 512, 512, 10])\n",
        "epochSize = 100\n",
        "learning_rate = 0.01\n",
        "optimizer = torch.optim.SGD(model.parameters(), lr=learning_rate)"
      ],
      "metadata": {
        "id": "RnHZSKo4duoc"
      },
      "execution_count": 25,
      "outputs": []
    },
    {
      "cell_type": "code",
      "source": [
        "#Hyperparameters\n",
        "loss_fn = nn.CrossEntropyLoss() \n",
        "device = torch.device('cuda')\n",
        "model = model.to(device)\n",
        "loss_fn = loss_fn.to(device)"
      ],
      "metadata": {
        "id": "mGF6TuAc-XTi"
      },
      "execution_count": 27,
      "outputs": []
    },
    {
      "cell_type": "code",
      "source": [
        "start_time = time.monotonic()\n",
        "losses, batch_losses, accuracy, wrong_pred = train(train_loader, model, epochSize, loss_fn, optimizer, device) #train\n",
        "valid_loss, valid_batch_loss, valid_acc, valid_wrong = evaluate(valid_loader, model, epochSize, loss_fn, device) #validate on cross val set\n",
        "end_time = time.monotonic()\n",
        "elapsed_mins, elapsed_secs = time_elapsed(start_time, end_time)\n",
        "print(f'Elapsed Time: {elapsed_mins}m {elapsed_secs}s')"
      ],
      "metadata": {
        "colab": {
          "base_uri": "https://localhost:8080/"
        },
        "id": "hJ0eV7TW_MXe",
        "outputId": "6a53fe5e-130c-4fb5-cd35-9d1a8b827ca4"
      },
      "execution_count": 28,
      "outputs": [
        {
          "output_type": "stream",
          "name": "stdout",
          "text": [
            "Elapsed Time: 1m 1s\n"
          ]
        }
      ]
    },
    {
      "cell_type": "code",
      "source": [
        "torch.save(model.state_dict(), \"./model8.weights\")\n",
        "files.download('model8.weights')"
      ],
      "metadata": {
        "id": "nkf3hBXOGe5B"
      },
      "execution_count": 31,
      "outputs": []
    },
    {
      "cell_type": "markdown",
      "source": [
        "##Check 3. Visualize loss for one model of your choice\n"
      ],
      "metadata": {
        "id": "pCjeTNA93zDn"
      }
    },
    {
      "cell_type": "code",
      "source": [
        "epoch = [i for i in range(epochSize)]\n",
        "plt.plot(epoch, losses)\n",
        "plt.xlabel(\"Epoch\")\n",
        "plt.ylabel(\"Cross Entropy\")\n",
        "plt.show()"
      ],
      "metadata": {
        "colab": {
          "base_uri": "https://localhost:8080/",
          "height": 279
        },
        "id": "GtvU59MXC4PF",
        "outputId": "9e98ca19-ab66-4799-b2f7-a31e4941a517"
      },
      "execution_count": 29,
      "outputs": [
        {
          "output_type": "display_data",
          "data": {
            "text/plain": [
              "<Figure size 432x288 with 1 Axes>"
            ],
            "image/png": "[encoded data removed]"
          },
          "metadata": {
            "needs_background": "light"
          }
        }
      ]
    },
    {
      "cell_type": "code",
      "source": [
        "itr = [i for i in range(len(batch_losses))]\n",
        "plt.plot(itr, batch_losses.detach().numpy())\n",
        "plt.xlabel(\"Minibatches\")\n",
        "plt.ylabel(\"Cross Entropy\")\n",
        "plt.show()"
      ],
      "metadata": {
        "colab": {
          "base_uri": "https://localhost:8080/",
          "height": 279
        },
        "id": "WVV0fU_eIOaQ",
        "outputId": "1b9e1433-8200-46d5-81ad-007313d45bd4"
      },
      "execution_count": 30,
      "outputs": [
        {
          "output_type": "display_data",
          "data": {
            "text/plain": [
              "<Figure size 432x288 with 1 Axes>"
            ],
            "image/png": "[encoded data removed]"
          },
          "metadata": {
            "needs_background": "light"
          }
        }
      ]
    },
    {
      "cell_type": "markdown",
      "source": [
        "##Check 4 Training and test accuracy"
      ],
      "metadata": {
        "id": "hVzOuTDyFviX"
      }
    },
    {
      "cell_type": "code",
      "source": [
        "model.load_state_dict(torch.load('model8.weights'))\n",
        "test_loss, test_batch_loss, test_acc, test_wrong = evaluate(test_loader, model, epochSize, loss_fn, device)"
      ],
      "metadata": {
        "id": "UVzCuXYE91FH"
      },
      "execution_count": 32,
      "outputs": []
    },
    {
      "cell_type": "code",
      "source": [
        "def count_parameters(model):\n",
        "    return sum(p.numel() for p in model.parameters() if p.requires_grad)"
      ],
      "metadata": {
        "id": "px2WKdWxFzlh"
      },
      "execution_count": 33,
      "outputs": []
    },
    {
      "cell_type": "code",
      "source": [
        "print(\"Simple MLP 3 layer\")\n",
        "print(\"Number of parameters:\", count_parameters(model))\n",
        "print(\"\\nTraining:\") \n",
        "print(\"number of data =\", len(train_data))\n",
        "print(\"number of wrongly predicted label =\", wrong_pred)\n",
        "print(\"accuracy = \", accuracy)\n",
        "\n",
        "print(\"\\n\\nCross Validation: \")\n",
        "print(\"number of data =\", len(valid_data))\n",
        "print(\"number of wrongly predicted label =\", valid_wrong)\n",
        "print(\"accuracy = \", valid_acc)\n",
        "\n",
        "print(\"\\n\\nTest: \")\n",
        "print(\"number of data =\", len(test))\n",
        "print(\"number of wrongly predicted label =\", test_wrong)\n",
        "print(\"accuracy = \", test_acc)"
      ],
      "metadata": {
        "colab": {
          "base_uri": "https://localhost:8080/"
        },
        "id": "ssQFbTQB6ZZb",
        "outputId": "5b8a68e1-d043-43b4-b9cf-3cc9eb7627c4"
      },
      "execution_count": 34,
      "outputs": [
        {
          "output_type": "stream",
          "name": "stdout",
          "text": [
            "Simple MLP 3 layer\n",
            "Number of parameters: 3367466\n",
            "\n",
            "Training:\n",
            "number of data = 50000\n",
            "number of wrongly predicted label = 329\n",
            "accuracy =  99.34263107416879\n",
            "\n",
            "\n",
            "Cross Validation: \n",
            "number of data = 10000\n",
            "number of wrongly predicted label = 368\n",
            "accuracy =  96.36075949367088\n",
            "\n",
            "\n",
            "Test: \n",
            "number of data = 10000\n",
            "number of wrongly predicted label = 894\n",
            "accuracy =  91.08979430379746\n"
          ]
        }
      ]
    },
    {
      "cell_type": "markdown",
      "source": [
        "###Q1. What are the combinations of parameters-hyperparameters that allows you to achieve the highest accuracy without overfitting?"
      ],
      "metadata": {
        "id": "WlmaWO54HVzD"
      }
    },
    {
      "cell_type": "markdown",
      "source": [
        "Model |#Hidden layers|#Hidden neurons|Epoch|#weights|optimizer|learningrate|minbatchsize|trainig size|validation size|test size|train accuracy|test accuracy|validation accuracy\n",
        "------|--------------|---------------|-----|--------|---------|------------|------------|------------|---------------|---------|--------------|------------|--------|\n",
        "1     |     1        | 1024          |10   | 814090 |Adam | 0.001 | 128 | 50000 |10000| 10000 | 99.938\t| 91.1689 | 96.578\n",
        "2     |       2       |[512, 512] |\t10|\t669706|\tAdam|\t0.001 |128|\t50000\t|10000|\t10000|\t99.482|\t90.674|\t95.985\n",
        "3|\t2\t|[1568, 512]\t|10\t|2039338\t|Adam\t|0.001\t|128\t|50000\t|10000|\t10000|\t99.37|\t91.6|\t96.26\n",
        "4| 3\t|[1024, 512, 256]\t|10\t|1462538\t|Adam\t|0.001\t|128\t|50000\t|10000\t|10000\t|99.449|\t90.704\t|96.09375\n",
        "5|2\t|[2048, 1024]\t|10\t|3716106|\tAdam|\t0.001|\t128\t|50000|\t10000|\t10000|\t99.45|\t91.3469|\t96.45965\n",
        "6|3\t|[1568, 1024, 512]\t|10|\t3367466|\tAdam|\t0.001|\t128|\t50000|\t10000|\t10000|\t99.1548|\t90.73|\t96.33\n",
        "7|2\t|[2048, 1568]\t|15\t|4836202\t|Adam|\t0.001|\t128\t|50000|\t10000|\t10000|\t99.47|\t91.9699|\t96.95\n",
        "8|4\t|[1568, 1024, 521, 256]\t|15|\t3507763|\tAdam|\t0.001|\t128|\t50000|\t10000|\t10000|\t99.52|\t91.278|\t95.945\n",
        "9|2\t|[2048, 1568]\t|15\t|4836202|\tSGD|\t0.01|\t128\t|50000|\t10000|\t10000|\t89.648|\t77.5|\t88.91\n",
        "10|3\t|[1568, 512, 512]\t|100\t|2301994|\tSGD|\t0.01|\t128|\t50000|\t10000|\t10000|\t99.998|\t89.26|\t95.7"
      ],
      "metadata": {
        "id": "HGgFeV51ILal"
      }
    },
    {
      "cell_type": "markdown",
      "source": [
        "#Task 2. Compute Shannon Entropy"
      ],
      "metadata": {
        "id": "CIhlnRWADtni"
      }
    },
    {
      "cell_type": "markdown",
      "source": [
        "##Q1. Create probability distribution of the train data P(x)"
      ],
      "metadata": {
        "id": "RhdyFLMvD3dJ"
      }
    },
    {
      "cell_type": "code",
      "source": [
        "def compute_probability_dist(dataset):\n",
        "  data_np = dataset.data.numpy()\n",
        "  flattened = np.zeros((len(dataset), 28*28))\n",
        "  for i in range (len(dataset)):\n",
        "    flattened[i] = data_np[i].flatten()\n",
        "\n",
        "  d = {}\n",
        "  for i in range(flattened.shape[1]): #784\n",
        "    d[i+1] = {}\n",
        "    for k in range(0, 256):\n",
        "      d[i+1][k] = 0\n",
        "    for j in range(flattened.shape[0]): \n",
        "      if flattened.T[i][j] in d[i+1].keys():\n",
        "        d[i+1][flattened.T[i][j]] +=1\n",
        "\n",
        "  prob_dict = {}\n",
        "  for i in range(1, 785):\n",
        "    prob_dict[i] = {}\n",
        "    for j in range(0,256):\n",
        "      prob_dict[i][j] = d[i][j] / len(dataset)\n",
        "      \n",
        "  return prob_dict\n"
      ],
      "metadata": {
        "id": "KvnnQTgXDyd2"
      },
      "execution_count": 35,
      "outputs": []
    },
    {
      "cell_type": "code",
      "source": [
        "prob_train = compute_probability_dist(dataset) #is a nested dictionary with size {784: {256}}"
      ],
      "metadata": {
        "id": "5YXz0QMiBRbj"
      },
      "execution_count": 36,
      "outputs": []
    },
    {
      "cell_type": "code",
      "source": [
        "len(prob_train[784])"
      ],
      "metadata": {
        "colab": {
          "base_uri": "https://localhost:8080/"
        },
        "id": "7tQA5d-H-4go",
        "outputId": "ed04289f-19a0-4585-d730-e415cc3d3670"
      },
      "execution_count": 59,
      "outputs": [
        {
          "output_type": "execute_result",
          "data": {
            "text/plain": [
              "256"
            ]
          },
          "metadata": {},
          "execution_count": 59
        }
      ]
    },
    {
      "cell_type": "code",
      "source": [
        "print(len(prob_train), len(prob_train[1]))\n",
        "print(\"{123: {\") \n",
        "for i in range(10):\n",
        "  print(\"   \",i,\":\", prob_train[123][i],\"}\")\n",
        "print(\"...}\")"
      ],
      "metadata": {
        "colab": {
          "base_uri": "https://localhost:8080/"
        },
        "id": "NMP1uOMRwYKa",
        "outputId": "2b43bd34-1c6c-49e9-f458-68d3cabdc070"
      },
      "execution_count": 37,
      "outputs": [
        {
          "output_type": "stream",
          "name": "stdout",
          "text": [
            "784 256\n",
            "{123: {\n",
            "    0 : 0.5062666666666666 }\n",
            "    1 : 0.014683333333333333 }\n",
            "    2 : 0.008733333333333333 }\n",
            "    3 : 0.007066666666666666 }\n",
            "    4 : 0.0062 }\n",
            "    5 : 0.004916666666666666 }\n",
            "    6 : 0.004166666666666667 }\n",
            "    7 : 0.0037833333333333334 }\n",
            "    8 : 0.003766666666666667 }\n",
            "    9 : 0.00335 }\n",
            "...}\n"
          ]
        }
      ]
    },
    {
      "cell_type": "markdown",
      "source": [
        "##Q2. Create probability distribution of the test data Q(x)"
      ],
      "metadata": {
        "id": "udASq0W30b-Z"
      }
    },
    {
      "cell_type": "code",
      "source": [
        "probability_test = compute_probability_dist(test)"
      ],
      "metadata": {
        "id": "UOtR5LtsbJS9"
      },
      "execution_count": 38,
      "outputs": []
    },
    {
      "cell_type": "markdown",
      "source": [
        "##Q3. Visualize P(x) and Q(x) for pixel position/feature #123"
      ],
      "metadata": {
        "id": "homN075B0lVI"
      }
    },
    {
      "cell_type": "code",
      "source": [
        "sample_train = list(prob_train[123].values())\n",
        "sample_test = list(probability_test[123].values())\n",
        "x = [i for i in range(256)]\n",
        "\n",
        "plt.subplots(figsize=(10, 6))\n",
        "plt.subplot(1, 2, 1)\n",
        "plt.bar(x, sample_train)\n",
        "plt.title(\"P(x) train data, feature #123\")\n",
        "plt.xlabel(\"x, Pixel values(0-255)\")\n",
        "plt.ylabel(\"P(x)\")\n",
        "plt.ylim(0, 0.1)\n",
        "\n",
        "plt.subplot(1, 2, 2)\n",
        "plt.bar(x, sample_test)\n",
        "plt.ylim(0, 0.1)\n",
        "plt.title(\"Q(x) test data, feature #123\")\n",
        "plt.xlabel(\"x, Pixel values(0-255)\")\n",
        "plt.ylabel(\"Q(x)\")\n",
        "\n",
        "plt.tight_layout()\n",
        "plt.show()"
      ],
      "metadata": {
        "colab": {
          "base_uri": "https://localhost:8080/",
          "height": 441
        },
        "id": "4jPDO48_ePJo",
        "outputId": "2d4c7fcf-e56f-414b-ea9b-79a28b9868ed"
      },
      "execution_count": 39,
      "outputs": [
        {
          "output_type": "display_data",
          "data": {
            "text/plain": [
              "<Figure size 720x432 with 2 Axes>"
            ],
            "image/png": "[encoded data removed]"
          },
          "metadata": {
            "needs_background": "light"
          }
        }
      ]
    },
    {
      "cell_type": "markdown",
      "source": [
        "##Q4 Compute the Shannon Entropy"
      ],
      "metadata": {
        "id": "hdeICJQlEBbX"
      }
    },
    {
      "cell_type": "code",
      "source": [
        "def compute_entropy(p):\n",
        "  shannon_ent = np.zeros(784)\n",
        "  for i in range(1, len(p)):\n",
        "    total = 0\n",
        "    for j in range(len(p[i])):\n",
        "      if (p[i][j] != 0):\n",
        "        total += (-p[i][j] * np.log2(p[i][j]))\n",
        "    shannon_ent[i-1] = total\n",
        "  return shannon_ent"
      ],
      "metadata": {
        "id": "UyscEreeEH4P"
      },
      "execution_count": 60,
      "outputs": []
    },
    {
      "cell_type": "code",
      "source": [
        "train_entropy = compute_entropy(prob_train)\n",
        "test_entropy = compute_entropy(probability_test)"
      ],
      "metadata": {
        "id": "KHnTDW9fcjy2"
      },
      "execution_count": 63,
      "outputs": []
    },
    {
      "cell_type": "code",
      "source": [
        "print(\"Entropy for train data H(x): {}\".format(train_entropy.sum()))\n",
        "print(\"Entropy for test data H(x): {}\".format(test_entropy.sum()))"
      ],
      "metadata": {
        "colab": {
          "base_uri": "https://localhost:8080/"
        },
        "id": "6Ol6iNYFA04L",
        "outputId": "8b35c9c7-8064-4e06-a288-72d208667706"
      },
      "execution_count": 64,
      "outputs": [
        {
          "output_type": "stream",
          "name": "stdout",
          "text": [
            "Entropy for train data H(x): 2447.0124690309603\n",
            "Entropy for test data H(x): 2407.038998771369\n"
          ]
        }
      ]
    },
    {
      "cell_type": "markdown",
      "source": [
        "###a) Plot the -P(X)log2[P(x)] (training) and -Q(X)log2[Q(x)] (testing)."
      ],
      "metadata": {
        "id": "JeNe_FXoJ006"
      }
    },
    {
      "cell_type": "code",
      "source": [
        "x = [i for i in range(784)]\n",
        "plt.subplot(1, 2, 1)\n",
        "plt.bar(x, train_entropy)\n",
        "plt.title(\"-P(x)log2(P(x)) distribution\")\n",
        "plt.xlabel(\"features (0-784)\")\n",
        "plt.ylabel(\"h(x)\")\n",
        "\n",
        "plt.subplot(1, 2, 2)\n",
        "plt.bar(x, test_entropy)\n",
        "plt.title(\"-P(x)log2(P(x)) distribution\")\n",
        "plt.xlabel(\"features (0-784)\")\n",
        "plt.ylabel(\"h(x)\")\n",
        "\n",
        "plt.tight_layout()\n",
        "plt.show()"
      ],
      "metadata": {
        "id": "Hv8rN0AyJ21M",
        "colab": {
          "base_uri": "https://localhost:8080/",
          "height": 297
        },
        "outputId": "ffd50f6a-d314-4b22-8487-d97be74d360e"
      },
      "execution_count": 66,
      "outputs": [
        {
          "output_type": "display_data",
          "data": {
            "text/plain": [
              "<Figure size 432x288 with 2 Axes>"
            ],
            "image/png": "[encoded data removed]"
          },
          "metadata": {
            "needs_background": "light"
          }
        }
      ]
    }
  ]
}